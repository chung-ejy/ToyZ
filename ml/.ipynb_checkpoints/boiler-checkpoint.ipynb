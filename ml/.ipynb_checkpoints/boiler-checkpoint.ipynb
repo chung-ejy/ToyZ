{
 "cells": [
  {
   "cell_type": "code",
   "execution_count": 1,
   "metadata": {},
   "outputs": [],
   "source": [
    "import pandas as pd\n",
    "from database.database import Database\n",
    "from modeler.modeler import Modeler as m\n",
    "import matplotlib.pyplot as plt\n",
    "from datetime import datetime, timedelta\n",
    "import pickle\n",
    "from sklearn.preprocessing import OneHotEncoder\n",
    "import numpy as np\n",
    "from tqdm import tqdm"
   ]
  },
  {
   "cell_type": "code",
   "execution_count": 2,
   "metadata": {},
   "outputs": [],
   "source": [
    "project_name = \"amazon_toys\""
   ]
  },
  {
   "cell_type": "code",
   "execution_count": 3,
   "metadata": {},
   "outputs": [],
   "source": [
    "db = Database(project_name)"
   ]
  },
  {
   "cell_type": "code",
   "execution_count": 4,
   "metadata": {},
   "outputs": [],
   "source": [
    "## Transform data\n",
    "data = pd.read_csv(\"data.csv\")"
   ]
  },
  {
   "cell_type": "code",
   "execution_count": 5,
   "metadata": {},
   "outputs": [],
   "source": [
    "data[\"number_available_in_stock\"] = data[\"number_available_in_stock\"].str.replace(r'\\xa0|^ ','')\n",
    "data[\"number_available_in_stock\"] = data[\"number_available_in_stock\"].str.replace(r'new|^ ','')\n",
    "data[\"number_available_in_stock\"] = data[\"number_available_in_stock\"].str.replace(r'used|^ ','')\n",
    "data[\"number_available_in_stock\"] = data[\"number_available_in_stock\"].str.replace(r'collectible|^ ','')\n",
    "data[\"number_available_in_stock\"] = data[\"number_available_in_stock\"].str.replace(r'refurbished|^ ','')\n",
    "data.fillna(-99999,inplace=True)\n",
    "data[\"price\"] = [float(str(x).replace(\",\",\"\").split(\" \")[0][1:]) if x != -99999 else 0 for x in data[\"price\"]]\n",
    "data[\"number_available_in_stock\"] = [float(value) if value != -99999 else 0 for value in data[\"number_available_in_stock\"]]"
   ]
  },
  {
   "cell_type": "code",
   "execution_count": 6,
   "metadata": {},
   "outputs": [],
   "source": [
    "data[\"number_of_reviews\"] = [int(str(x).replace(\",\",\"\")) for x in data[\"number_of_reviews\"]]"
   ]
  },
  {
   "cell_type": "code",
   "execution_count": 7,
   "metadata": {},
   "outputs": [],
   "source": [
    "data[\"number_of_answered_questions\"] = [int(x) for x in data[\"number_of_answered_questions\"]]"
   ]
  },
  {
   "cell_type": "code",
   "execution_count": 8,
   "metadata": {},
   "outputs": [],
   "source": [
    "data[\"average_review_rating\"] = [float(str(x).split(\" \")[0]) for x in data[\"average_review_rating\"]]"
   ]
  },
  {
   "cell_type": "code",
   "execution_count": 9,
   "metadata": {},
   "outputs": [],
   "source": [
    "new_dataframe = {}\n",
    "factors = [\"number_of_answered_questions\",\"number_available_in_stock\",\"number_of_reviews\",\"average_review_rating\"]\n",
    "for factor in factors:\n",
    "    new_dataframe[factor] = []\n",
    "for row in data.iterrows():\n",
    "    for factor in factors:\n",
    "        if row[1][factor] < 0:\n",
    "            new_dataframe[factor].append(np.nanmean([x for x in data[factor] if x > 0]))\n",
    "        else:\n",
    "            new_dataframe[factor].append(row[1][factor])\n",
    "        "
   ]
  },
  {
   "cell_type": "code",
   "execution_count": 10,
   "metadata": {},
   "outputs": [],
   "source": [
    "for key in new_dataframe.keys():\n",
    "    data[key] = new_dataframe[key]"
   ]
  },
  {
   "cell_type": "code",
   "execution_count": 11,
   "metadata": {},
   "outputs": [],
   "source": [
    "categories = []\n",
    "for category in data[\"amazon_category_and_sub_category\"]:\n",
    "    try:\n",
    "        categories.append(category.split(\" > \")[0])\n",
    "    except:\n",
    "        categories.append(\"none\")\n",
    "data[\"category\"] = categories"
   ]
  },
  {
   "cell_type": "code",
   "execution_count": 12,
   "metadata": {},
   "outputs": [],
   "source": [
    "enc = OneHotEncoder()\n",
    "processed = [[x] for x in data[\"category\"]]\n",
    "numerical = enc.fit_transform(processed)"
   ]
  },
  {
   "cell_type": "code",
   "execution_count": 13,
   "metadata": {},
   "outputs": [],
   "source": [
    "for i in range(len(data[\"category\"].unique())):\n",
    "    da_factor = [x[i] for x in numerical.toarray()]\n",
    "    data[str(i)] = da_factor"
   ]
  },
  {
   "cell_type": "code",
   "execution_count": 14,
   "metadata": {},
   "outputs": [
    {
     "data": {
      "text/plain": [
       "Index(['uniq_id', 'product_name', 'manufacturer', 'price',\n",
       "       'number_available_in_stock', 'number_of_reviews',\n",
       "       'number_of_answered_questions', 'average_review_rating',\n",
       "       'amazon_category_and_sub_category',\n",
       "       'customers_who_bought_this_item_also_bought', 'description',\n",
       "       'product_information', 'product_description',\n",
       "       'items_customers_buy_after_viewing_this_item',\n",
       "       'customer_questions_and_answers', 'customer_reviews', 'sellers',\n",
       "       'category', '0', '1', '2', '3', '4', '5', '6', '7', '8', '9', '10',\n",
       "       '11', '12', '13', '14', '15', '16', '17', '18', '19', '20', '21', '22',\n",
       "       '23', '24', '25', '26', '27', '28', '29', '30', '31', '32', '33', '34',\n",
       "       '35', '36', '37', '38', '39', '40', '41', '42', '43'],\n",
       "      dtype='object')"
      ]
     },
     "execution_count": 14,
     "metadata": {},
     "output_type": "execute_result"
    }
   ],
   "source": [
    "data.columns"
   ]
  },
  {
   "cell_type": "code",
   "execution_count": 16,
   "metadata": {},
   "outputs": [
    {
     "name": "stderr",
     "output_type": "stream",
     "text": [
      "100%|████████████████████████████████████████████████████████████████████████████████████████████████████████████████████████████████| 44/44 [00:27<00:00,  1.58it/s]\n"
     ]
    }
   ],
   "source": [
    "## Refine Data\n",
    "## if classification make appropriate changes\n",
    "models = []\n",
    "label = \"price\"\n",
    "data[\"y\"] = data[label]\n",
    "data.drop(label,axis=1)\n",
    "data = data.sample(frac=1)\n",
    "for category in tqdm(data[\"category\"].unique()):\n",
    "    category_data = data[data[\"category\"]==category]\n",
    "    label = \"price\"\n",
    "    train = category_data.iloc[:int(category_data.index.size * 0.7)]\n",
    "    test = category_data.iloc[int(category_data.index.size * 0.7):]\n",
    "    X = train[factors]\n",
    "    y = train[[\"y\"]]\n",
    "    y[\"y_class\"] = 1\n",
    "    refined_data = {\"X\":X,\"y\":y}\n",
    "    try:\n",
    "        model = m.regression(refined_data,ranked=False,tf=False,deep=True,sk=True,xgb=True)\n",
    "        model[\"category\"] = category\n",
    "        models.append(model)\n",
    "    except:\n",
    "        continue\n",
    "#         models.append({\"category\":category,\"model\":\"none\"})"
   ]
  },
  {
   "cell_type": "code",
   "execution_count": 17,
   "metadata": {},
   "outputs": [
    {
     "data": {
      "text/html": [
       "<div>\n",
       "<style scoped>\n",
       "    .dataframe tbody tr th:only-of-type {\n",
       "        vertical-align: middle;\n",
       "    }\n",
       "\n",
       "    .dataframe tbody tr th {\n",
       "        vertical-align: top;\n",
       "    }\n",
       "\n",
       "    .dataframe thead th {\n",
       "        text-align: right;\n",
       "    }\n",
       "</style>\n",
       "<table border=\"1\" class=\"dataframe\">\n",
       "  <thead>\n",
       "    <tr style=\"text-align: right;\">\n",
       "      <th></th>\n",
       "      <th>api</th>\n",
       "      <th>model</th>\n",
       "      <th>score</th>\n",
       "      <th>model_type</th>\n",
       "      <th>category</th>\n",
       "    </tr>\n",
       "  </thead>\n",
       "  <tbody>\n",
       "    <tr>\n",
       "      <th>1</th>\n",
       "      <td>skl</td>\n",
       "      <td>RidgeCV(alphas=array([1.e-04, 1.e-03, 1.e-02, ...</td>\n",
       "      <td>-0.013360</td>\n",
       "      <td>regression</td>\n",
       "      <td>Hobbies</td>\n",
       "    </tr>\n",
       "    <tr>\n",
       "      <th>1</th>\n",
       "      <td>skl</td>\n",
       "      <td>RidgeCV(alphas=array([1.e-04, 1.e-03, 1.e-02, ...</td>\n",
       "      <td>-0.074478</td>\n",
       "      <td>regression</td>\n",
       "      <td>Arts &amp; Crafts</td>\n",
       "    </tr>\n",
       "    <tr>\n",
       "      <th>1</th>\n",
       "      <td>skl</td>\n",
       "      <td>RidgeCV(alphas=array([1.e-04, 1.e-03, 1.e-02, ...</td>\n",
       "      <td>-0.049825</td>\n",
       "      <td>regression</td>\n",
       "      <td>Dolls &amp; Accessories</td>\n",
       "    </tr>\n",
       "    <tr>\n",
       "      <th>2</th>\n",
       "      <td>skl</td>\n",
       "      <td>LinearRegression()</td>\n",
       "      <td>0.000676</td>\n",
       "      <td>regression</td>\n",
       "      <td>Jigsaws &amp; Puzzles</td>\n",
       "    </tr>\n",
       "    <tr>\n",
       "      <th>1</th>\n",
       "      <td>skl</td>\n",
       "      <td>RidgeCV(alphas=array([1.e-04, 1.e-03, 1.e-02, ...</td>\n",
       "      <td>-0.015782</td>\n",
       "      <td>regression</td>\n",
       "      <td>Characters &amp; Brands</td>\n",
       "    </tr>\n",
       "    <tr>\n",
       "      <th>1</th>\n",
       "      <td>skl</td>\n",
       "      <td>RidgeCV(alphas=array([1.e-04, 1.e-03, 1.e-02, ...</td>\n",
       "      <td>-0.033763</td>\n",
       "      <td>regression</td>\n",
       "      <td>Party Supplies</td>\n",
       "    </tr>\n",
       "    <tr>\n",
       "      <th>1</th>\n",
       "      <td>skl</td>\n",
       "      <td>RidgeCV(alphas=array([1.e-04, 1.e-03, 1.e-02, ...</td>\n",
       "      <td>-0.000060</td>\n",
       "      <td>regression</td>\n",
       "      <td>none</td>\n",
       "    </tr>\n",
       "    <tr>\n",
       "      <th>1</th>\n",
       "      <td>skl</td>\n",
       "      <td>RidgeCV(alphas=array([1.e-04, 1.e-03, 1.e-02, ...</td>\n",
       "      <td>-0.019212</td>\n",
       "      <td>regression</td>\n",
       "      <td>Figures &amp; Playsets</td>\n",
       "    </tr>\n",
       "    <tr>\n",
       "      <th>1</th>\n",
       "      <td>skl</td>\n",
       "      <td>RidgeCV(alphas=array([1.e-04, 1.e-03, 1.e-02, ...</td>\n",
       "      <td>0.000642</td>\n",
       "      <td>regression</td>\n",
       "      <td>Die-Cast &amp; Toy Vehicles</td>\n",
       "    </tr>\n",
       "    <tr>\n",
       "      <th>1</th>\n",
       "      <td>skl</td>\n",
       "      <td>RidgeCV(alphas=array([1.e-04, 1.e-03, 1.e-02, ...</td>\n",
       "      <td>-0.040701</td>\n",
       "      <td>regression</td>\n",
       "      <td>Fancy Dress</td>\n",
       "    </tr>\n",
       "    <tr>\n",
       "      <th>1</th>\n",
       "      <td>skl</td>\n",
       "      <td>RidgeCV(alphas=array([1.e-04, 1.e-03, 1.e-02, ...</td>\n",
       "      <td>-0.260098</td>\n",
       "      <td>regression</td>\n",
       "      <td>Games</td>\n",
       "    </tr>\n",
       "    <tr>\n",
       "      <th>3</th>\n",
       "      <td>xgb</td>\n",
       "      <td>XGBRegressor(base_score=0.5, booster='gblinear...</td>\n",
       "      <td>0.007992</td>\n",
       "      <td>regression</td>\n",
       "      <td>Baby &amp; Toddler Toys</td>\n",
       "    </tr>\n",
       "    <tr>\n",
       "      <th>1</th>\n",
       "      <td>skl</td>\n",
       "      <td>RidgeCV(alphas=array([1.e-04, 1.e-03, 1.e-02, ...</td>\n",
       "      <td>-0.041141</td>\n",
       "      <td>regression</td>\n",
       "      <td>Sports Toys &amp; Outdoor</td>\n",
       "    </tr>\n",
       "    <tr>\n",
       "      <th>1</th>\n",
       "      <td>skl</td>\n",
       "      <td>RidgeCV(alphas=array([1.e-04, 1.e-03, 1.e-02, ...</td>\n",
       "      <td>0.023965</td>\n",
       "      <td>regression</td>\n",
       "      <td>Puppets &amp; Puppet Theatres</td>\n",
       "    </tr>\n",
       "    <tr>\n",
       "      <th>3</th>\n",
       "      <td>xgb</td>\n",
       "      <td>Cannot have number of splits n_splits=5 greate...</td>\n",
       "      <td>-9999.000000</td>\n",
       "      <td>regression</td>\n",
       "      <td>Home Accessories</td>\n",
       "    </tr>\n",
       "    <tr>\n",
       "      <th>1</th>\n",
       "      <td>skl</td>\n",
       "      <td>RidgeCV(alphas=array([1.e-04, 1.e-03, 1.e-02, ...</td>\n",
       "      <td>-0.423494</td>\n",
       "      <td>regression</td>\n",
       "      <td>Pretend Play</td>\n",
       "    </tr>\n",
       "    <tr>\n",
       "      <th>3</th>\n",
       "      <td>xgb</td>\n",
       "      <td>XGBRegressor(base_score=0.5, booster='gbtree',...</td>\n",
       "      <td>0.533783</td>\n",
       "      <td>regression</td>\n",
       "      <td>Musical Toy Instruments</td>\n",
       "    </tr>\n",
       "    <tr>\n",
       "      <th>3</th>\n",
       "      <td>xgb</td>\n",
       "      <td>Cannot have number of splits n_splits=5 greate...</td>\n",
       "      <td>-9999.000000</td>\n",
       "      <td>regression</td>\n",
       "      <td>Pens, Pencils &amp; Writing Supplies</td>\n",
       "    </tr>\n",
       "    <tr>\n",
       "      <th>3</th>\n",
       "      <td>xgb</td>\n",
       "      <td>Cannot have number of splits n_splits=5 greate...</td>\n",
       "      <td>-9999.000000</td>\n",
       "      <td>regression</td>\n",
       "      <td>Office Supplies</td>\n",
       "    </tr>\n",
       "    <tr>\n",
       "      <th>3</th>\n",
       "      <td>xgb</td>\n",
       "      <td>Cannot have number of splits n_splits=5 greate...</td>\n",
       "      <td>-9999.000000</td>\n",
       "      <td>regression</td>\n",
       "      <td>Electronic Toys</td>\n",
       "    </tr>\n",
       "    <tr>\n",
       "      <th>3</th>\n",
       "      <td>xgb</td>\n",
       "      <td>Cannot have number of splits n_splits=5 greate...</td>\n",
       "      <td>-9999.000000</td>\n",
       "      <td>regression</td>\n",
       "      <td>Cooking &amp; Dining</td>\n",
       "    </tr>\n",
       "    <tr>\n",
       "      <th>3</th>\n",
       "      <td>xgb</td>\n",
       "      <td>Cannot have number of splits n_splits=5 greate...</td>\n",
       "      <td>-9999.000000</td>\n",
       "      <td>regression</td>\n",
       "      <td>Worlds Apart</td>\n",
       "    </tr>\n",
       "    <tr>\n",
       "      <th>3</th>\n",
       "      <td>xgb</td>\n",
       "      <td>XGBRegressor(base_score=0.5, booster='gbtree',...</td>\n",
       "      <td>0.000000</td>\n",
       "      <td>regression</td>\n",
       "      <td>Novelty &amp; Special Use</td>\n",
       "    </tr>\n",
       "    <tr>\n",
       "      <th>3</th>\n",
       "      <td>xgb</td>\n",
       "      <td>Cannot have number of splits n_splits=5 greate...</td>\n",
       "      <td>-9999.000000</td>\n",
       "      <td>regression</td>\n",
       "      <td>Women</td>\n",
       "    </tr>\n",
       "    <tr>\n",
       "      <th>3</th>\n",
       "      <td>xgb</td>\n",
       "      <td>Cannot have number of splits n_splits=5 greate...</td>\n",
       "      <td>-9999.000000</td>\n",
       "      <td>regression</td>\n",
       "      <td>Bags</td>\n",
       "    </tr>\n",
       "    <tr>\n",
       "      <th>3</th>\n",
       "      <td>xgb</td>\n",
       "      <td>Cannot have number of splits n_splits=5 greate...</td>\n",
       "      <td>-9999.000000</td>\n",
       "      <td>regression</td>\n",
       "      <td>Gardening</td>\n",
       "    </tr>\n",
       "    <tr>\n",
       "      <th>3</th>\n",
       "      <td>xgb</td>\n",
       "      <td>Cannot have number of splits n_splits=5 greate...</td>\n",
       "      <td>-9999.000000</td>\n",
       "      <td>regression</td>\n",
       "      <td>Educational Toys</td>\n",
       "    </tr>\n",
       "  </tbody>\n",
       "</table>\n",
       "</div>"
      ],
      "text/plain": [
       "   api                                              model        score  \\\n",
       "1  skl  RidgeCV(alphas=array([1.e-04, 1.e-03, 1.e-02, ...    -0.013360   \n",
       "1  skl  RidgeCV(alphas=array([1.e-04, 1.e-03, 1.e-02, ...    -0.074478   \n",
       "1  skl  RidgeCV(alphas=array([1.e-04, 1.e-03, 1.e-02, ...    -0.049825   \n",
       "2  skl                                 LinearRegression()     0.000676   \n",
       "1  skl  RidgeCV(alphas=array([1.e-04, 1.e-03, 1.e-02, ...    -0.015782   \n",
       "1  skl  RidgeCV(alphas=array([1.e-04, 1.e-03, 1.e-02, ...    -0.033763   \n",
       "1  skl  RidgeCV(alphas=array([1.e-04, 1.e-03, 1.e-02, ...    -0.000060   \n",
       "1  skl  RidgeCV(alphas=array([1.e-04, 1.e-03, 1.e-02, ...    -0.019212   \n",
       "1  skl  RidgeCV(alphas=array([1.e-04, 1.e-03, 1.e-02, ...     0.000642   \n",
       "1  skl  RidgeCV(alphas=array([1.e-04, 1.e-03, 1.e-02, ...    -0.040701   \n",
       "1  skl  RidgeCV(alphas=array([1.e-04, 1.e-03, 1.e-02, ...    -0.260098   \n",
       "3  xgb  XGBRegressor(base_score=0.5, booster='gblinear...     0.007992   \n",
       "1  skl  RidgeCV(alphas=array([1.e-04, 1.e-03, 1.e-02, ...    -0.041141   \n",
       "1  skl  RidgeCV(alphas=array([1.e-04, 1.e-03, 1.e-02, ...     0.023965   \n",
       "3  xgb  Cannot have number of splits n_splits=5 greate... -9999.000000   \n",
       "1  skl  RidgeCV(alphas=array([1.e-04, 1.e-03, 1.e-02, ...    -0.423494   \n",
       "3  xgb  XGBRegressor(base_score=0.5, booster='gbtree',...     0.533783   \n",
       "3  xgb  Cannot have number of splits n_splits=5 greate... -9999.000000   \n",
       "3  xgb  Cannot have number of splits n_splits=5 greate... -9999.000000   \n",
       "3  xgb  Cannot have number of splits n_splits=5 greate... -9999.000000   \n",
       "3  xgb  Cannot have number of splits n_splits=5 greate... -9999.000000   \n",
       "3  xgb  Cannot have number of splits n_splits=5 greate... -9999.000000   \n",
       "3  xgb  XGBRegressor(base_score=0.5, booster='gbtree',...     0.000000   \n",
       "3  xgb  Cannot have number of splits n_splits=5 greate... -9999.000000   \n",
       "3  xgb  Cannot have number of splits n_splits=5 greate... -9999.000000   \n",
       "3  xgb  Cannot have number of splits n_splits=5 greate... -9999.000000   \n",
       "3  xgb  Cannot have number of splits n_splits=5 greate... -9999.000000   \n",
       "\n",
       "   model_type                          category  \n",
       "1  regression                           Hobbies  \n",
       "1  regression                     Arts & Crafts  \n",
       "1  regression               Dolls & Accessories  \n",
       "2  regression                 Jigsaws & Puzzles  \n",
       "1  regression               Characters & Brands  \n",
       "1  regression                    Party Supplies  \n",
       "1  regression                              none  \n",
       "1  regression                Figures & Playsets  \n",
       "1  regression           Die-Cast & Toy Vehicles  \n",
       "1  regression                       Fancy Dress  \n",
       "1  regression                             Games  \n",
       "3  regression               Baby & Toddler Toys  \n",
       "1  regression             Sports Toys & Outdoor  \n",
       "1  regression         Puppets & Puppet Theatres  \n",
       "3  regression                  Home Accessories  \n",
       "1  regression                      Pretend Play  \n",
       "3  regression           Musical Toy Instruments  \n",
       "3  regression  Pens, Pencils & Writing Supplies  \n",
       "3  regression                   Office Supplies  \n",
       "3  regression                   Electronic Toys  \n",
       "3  regression                  Cooking & Dining  \n",
       "3  regression                      Worlds Apart  \n",
       "3  regression             Novelty & Special Use  \n",
       "3  regression                             Women  \n",
       "3  regression                              Bags  \n",
       "3  regression                         Gardening  \n",
       "3  regression                  Educational Toys  "
      ]
     },
     "execution_count": 17,
     "metadata": {},
     "output_type": "execute_result"
    }
   ],
   "source": [
    "pd.DataFrame(models)"
   ]
  },
  {
   "cell_type": "code",
   "execution_count": 18,
   "metadata": {},
   "outputs": [
    {
     "ename": "AttributeError",
     "evalue": "'str' object has no attribute 'predict'",
     "output_type": "error",
     "traceback": [
      "\u001b[1;31m---------------------------------------------------------------------------\u001b[0m",
      "\u001b[1;31mAttributeError\u001b[0m                            Traceback (most recent call last)",
      "\u001b[1;32m<ipython-input-18-b08c24ab2554>\u001b[0m in \u001b[0;36m<module>\u001b[1;34m\u001b[0m\n\u001b[0;32m      1\u001b[0m \u001b[1;31m## Test Model\u001b[0m\u001b[1;33m\u001b[0m\u001b[1;33m\u001b[0m\u001b[1;33m\u001b[0m\u001b[0m\n\u001b[1;32m----> 2\u001b[1;33m \u001b[0mpredictions\u001b[0m \u001b[1;33m=\u001b[0m \u001b[1;33m[\u001b[0m\u001b[0mx\u001b[0m\u001b[1;33m[\u001b[0m\u001b[1;36m0\u001b[0m\u001b[1;33m]\u001b[0m \u001b[1;32mfor\u001b[0m \u001b[0mx\u001b[0m \u001b[1;32min\u001b[0m \u001b[0mmodel\u001b[0m\u001b[1;33m[\u001b[0m\u001b[1;34m\"model\"\u001b[0m\u001b[1;33m]\u001b[0m\u001b[1;33m.\u001b[0m\u001b[0mpredict\u001b[0m\u001b[1;33m(\u001b[0m\u001b[0mtest\u001b[0m\u001b[1;33m[\u001b[0m\u001b[0mfactors\u001b[0m\u001b[1;33m]\u001b[0m\u001b[1;33m)\u001b[0m\u001b[1;33m]\u001b[0m\u001b[1;33m\u001b[0m\u001b[1;33m\u001b[0m\u001b[0m\n\u001b[0m\u001b[0;32m      3\u001b[0m \u001b[0mtest\u001b[0m\u001b[1;33m[\u001b[0m\u001b[1;34m\"predictions\"\u001b[0m\u001b[1;33m]\u001b[0m \u001b[1;33m=\u001b[0m \u001b[0mpredictions\u001b[0m\u001b[1;33m\u001b[0m\u001b[1;33m\u001b[0m\u001b[0m\n",
      "\u001b[1;31mAttributeError\u001b[0m: 'str' object has no attribute 'predict'"
     ]
    }
   ],
   "source": [
    "## Test Model\n",
    "\n",
    "predictions = [x[0] for x in model[\"model\"].predict(test[factors])]\n",
    "test[\"predictions\"] = predictions"
   ]
  },
  {
   "cell_type": "code",
   "execution_count": 85,
   "metadata": {},
   "outputs": [
    {
     "data": {
      "text/plain": [
       "<matplotlib.collections.PathCollection at 0x21c2fbff820>"
      ]
     },
     "execution_count": 85,
     "metadata": {},
     "output_type": "execute_result"
    },
    {
     "data": {
      "image/png": "[encoded data removed]",
      "text/plain": [
       "<Figure size 432x288 with 1 Axes>"
      ]
     },
     "metadata": {
      "needs_background": "light"
     },
     "output_type": "display_data"
    }
   ],
   "source": [
    "## Visualize\n",
    "index = \"number_of_reviews\"\n",
    "plt.scatter(test[index],test[\"predictions\"])\n",
    "plt.scatter(test[index],test[label])"
   ]
  },
  {
   "cell_type": "code",
   "execution_count": 102,
   "metadata": {},
   "outputs": [],
   "source": [
    "## Store Model\n",
    "model[\"model\"] = pickle.dumps(model[\"model\"])\n",
    "db.connect()\n",
    "db.store_data(\"model\",pd.DataFrame([model]))\n",
    "db.close()"
   ]
  }
 ],
 "metadata": {
  "kernelspec": {
   "display_name": "Python 3",
   "language": "python",
   "name": "python3"
  },
  "language_info": {
   "codemirror_mode": {
    "name": "ipython",
    "version": 3
   },
   "file_extension": ".py",
   "mimetype": "text/x-python",
   "name": "python",
   "nbconvert_exporter": "python",
   "pygments_lexer": "ipython3",
   "version": "3.8.0"
  }
 },
 "nbformat": 4,
 "nbformat_minor": 4
}
