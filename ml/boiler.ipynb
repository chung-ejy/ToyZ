{
 "cells": [
  {
   "cell_type": "code",
   "execution_count": 101,
   "metadata": {},
   "outputs": [],
   "source": [
    "import pandas as pd\n",
    "from database.database import Database\n",
    "from modeler.modeler import Modeler as m\n",
    "import matplotlib.pyplot as plt\n",
    "from datetime import datetime, timedelta\n",
    "import pickle"
   ]
  },
  {
   "cell_type": "code",
   "execution_count": 2,
   "metadata": {},
   "outputs": [],
   "source": [
    "project_name = \"amazon_toys\""
   ]
  },
  {
   "cell_type": "code",
   "execution_count": 3,
   "metadata": {},
   "outputs": [],
   "source": [
    "db = Database(project_name)"
   ]
  },
  {
   "cell_type": "code",
   "execution_count": 75,
   "metadata": {},
   "outputs": [],
   "source": [
    "## Transform data\n",
    "data = pd.read_csv(\"data.csv\")"
   ]
  },
  {
   "cell_type": "code",
   "execution_count": 76,
   "metadata": {},
   "outputs": [
    {
     "data": {
      "text/plain": [
       "uniq_id                                         object\n",
       "product_name                                    object\n",
       "manufacturer                                    object\n",
       "price                                           object\n",
       "number_available_in_stock                       object\n",
       "number_of_reviews                               object\n",
       "number_of_answered_questions                   float64\n",
       "average_review_rating                           object\n",
       "amazon_category_and_sub_category                object\n",
       "customers_who_bought_this_item_also_bought      object\n",
       "description                                     object\n",
       "product_information                             object\n",
       "product_description                             object\n",
       "items_customers_buy_after_viewing_this_item     object\n",
       "customer_questions_and_answers                  object\n",
       "customer_reviews                                object\n",
       "sellers                                         object\n",
       "dtype: object"
      ]
     },
     "execution_count": 76,
     "metadata": {},
     "output_type": "execute_result"
    }
   ],
   "source": [
    "data.dtypes"
   ]
  },
  {
   "cell_type": "code",
   "execution_count": 77,
   "metadata": {},
   "outputs": [],
   "source": [
    "data[\"number_available_in_stock\"] = data[\"number_available_in_stock\"].str.replace(r'\\xa0|^ ','')\n",
    "data[\"number_available_in_stock\"] = data[\"number_available_in_stock\"].str.replace(r'new|^ ','')\n",
    "data[\"number_available_in_stock\"] = data[\"number_available_in_stock\"].str.replace(r'used|^ ','')\n",
    "data[\"number_available_in_stock\"] = data[\"number_available_in_stock\"].str.replace(r'collectible|^ ','')\n",
    "data[\"number_available_in_stock\"] = data[\"number_available_in_stock\"].str.replace(r'refurbished|^ ','')\n",
    "data.fillna(-99999,inplace=True)\n",
    "data[\"price\"] = [float(str(x).replace(\",\",\"\").split(\" \")[0][1:]) if x != -99999 else 0 for x in data[\"price\"]]\n",
    "data[\"number_available_in_stock\"] = [float(value) if value != -99999 else 0 for value in data[\"number_available_in_stock\"]]"
   ]
  },
  {
   "cell_type": "code",
   "execution_count": 79,
   "metadata": {},
   "outputs": [],
   "source": [
    "data[\"number_of_reviews\"] = [int(str(x).replace(\",\",\"\")) for x in data[\"number_of_reviews\"]]"
   ]
  },
  {
   "cell_type": "code",
   "execution_count": 80,
   "metadata": {},
   "outputs": [],
   "source": [
    "data[\"number_of_answered_questions\"] = [int(x) for x in data[\"number_of_answered_questions\"]]"
   ]
  },
  {
   "cell_type": "code",
   "execution_count": 81,
   "metadata": {},
   "outputs": [],
   "source": [
    "data[\"average_review_rating\"] = [float(str(x).split(\" \")[0]) for x in data[\"average_review_rating\"]]"
   ]
  },
  {
   "cell_type": "code",
   "execution_count": 91,
   "metadata": {},
   "outputs": [],
   "source": [
    "## Refine Data\n",
    "## if classification make appropriate changes\n",
    "factors = [\"number_of_answered_questions\",\"number_available_in_stock\",\"number_of_reviews\",\"average_review_rating\"]\n",
    "label = \"price\"\n",
    "data[\"y\"] = data[label]\n",
    "data.drop(label,axis=1)\n",
    "data = data.sample(frac=1)\n",
    "train = data.iloc[:int(data.index.size * 0.7)]\n",
    "test = data.iloc[int(data.index.size * 0.7):]\n",
    "X = train[factors]\n",
    "y = train[[\"y\"]]\n",
    "y[\"y_class\"] = 1\n",
    "refined_data = {\"X\":X,\"y\":y}"
   ]
  },
  {
   "cell_type": "code",
   "execution_count": 92,
   "metadata": {},
   "outputs": [],
   "source": [
    "## Model\n",
    "model = m.regression(refined_data,ranked=False,tf=False,deep=False,sk=True,xgb=True)"
   ]
  },
  {
   "cell_type": "code",
   "execution_count": 98,
   "metadata": {},
   "outputs": [
    {
     "data": {
      "text/plain": [
       "api                                                         skl\n",
       "model         RidgeCV(alphas=array([1.e-04, 1.e-03, 1.e-02, ...\n",
       "score                                              -0.000254892\n",
       "model_type                                           regression\n",
       "Name: 1, dtype: object"
      ]
     },
     "execution_count": 98,
     "metadata": {},
     "output_type": "execute_result"
    }
   ],
   "source": [
    "model"
   ]
  },
  {
   "cell_type": "code",
   "execution_count": 94,
   "metadata": {},
   "outputs": [],
   "source": [
    "## Test Model\n",
    "predictions = [x[0] for x in model[\"model\"].predict(test[factors])]\n",
    "test[\"predictions\"] = predictions"
   ]
  },
  {
   "cell_type": "code",
   "execution_count": 96,
   "metadata": {},
   "outputs": [
    {
     "data": {
      "text/plain": [
       "[<matplotlib.lines.Line2D at 0x26c6731baf0>]"
      ]
     },
     "execution_count": 96,
     "metadata": {},
     "output_type": "execute_result"
    },
    {
     "data": {
      "image/png": "[encoded data removed]",
      "text/plain": [
       "<Figure size 432x288 with 1 Axes>"
      ]
     },
     "metadata": {
      "needs_background": "light"
     },
     "output_type": "display_data"
    }
   ],
   "source": [
    "## Visualize\n",
    "index = \"number_of_reviews\"\n",
    "plt.plot(test[index],test[\"predictions\"])\n",
    "plt.plot(test[index],test[label])"
   ]
  },
  {
   "cell_type": "code",
   "execution_count": 102,
   "metadata": {},
   "outputs": [],
   "source": [
    "## Store Model\n",
    "model[\"model\"] = pickle.dumps(model[\"model\"])\n",
    "db.connect()\n",
    "db.store_data(\"model\",pd.DataFrame([model]))\n",
    "db.close()"
   ]
  }
 ],
 "metadata": {
  "kernelspec": {
   "display_name": "Python 3",
   "language": "python",
   "name": "python3"
  },
  "language_info": {
   "codemirror_mode": {
    "name": "ipython",
    "version": 3
   },
   "file_extension": ".py",
   "mimetype": "text/x-python",
   "name": "python",
   "nbconvert_exporter": "python",
   "pygments_lexer": "ipython3",
   "version": "3.8.0"
  }
 },
 "nbformat": 4,
 "nbformat_minor": 4
}
